{
  "nbformat": 4,
  "nbformat_minor": 0,
  "metadata": {
    "colab": {
      "provenance": [],
      "include_colab_link": true
    },
    "kernelspec": {
      "name": "python3",
      "display_name": "Python 3"
    },
    "language_info": {
      "name": "python"
    }
  },
  "cells": [
    {
      "cell_type": "markdown",
      "metadata": {
        "id": "view-in-github",
        "colab_type": "text"
      },
      "source": [
        "<a href=\"https://colab.research.google.com/github/wlqekstnaus/MyMajor/blob/main/0_MarkDown4README_md.ipynb\" target=\"_parent\"><img src=\"https://colab.research.google.com/assets/colab-badge.svg\" alt=\"Open In Colab\"/></a>"
      ]
    },
    {
      "cell_type": "markdown",
      "source": [
        "#🏠 **Introduction to the <font color = 'orange'>Architecture Department**\n",
        "\n",
        "\n",
        "## **Key topics and fields related to architecture include:**\n",
        "\n",
        "* ###  **Architectural Design**: Involves the design of building exteriors, interior spaces, and structural elements while considering functionality, efficiency, safety, and environmental impact.\n",
        "\n",
        "* ### **Architectural Technology**: Focuses on building materials, construction techniques, and technological advancements to enhance durability, safety, environmental sustainability, and energy efficiency.\n",
        "\n",
        "* ### **Urban and Regional Planning**: Concerned with organizing and planning buildings and spaces within urban and regional contexts to promote development, environmental conservation, transportation flow, and public facilities.\n",
        "\n",
        "* ### **Structural Engineering**: Deals with the engineering aspects of buildings and structures, including structural elements, materials, load analysis, and seismic safety.\n",
        "\n",
        "* ### **Architectural History and Theory**: Studies the historical development and theoretical foundations of architecture within cultural, social, and political contexts to understand architectural works.\n",
        "\n",
        "* ### **Environmental Design and Energy Efficiency**: Focuses on designing buildings to be environmentally friendly and energy-efficient, contributing to sustainability and reducing energy consumption.\n",
        "\n",
        "## Additionally, architecture intersects with various disciplines, fostering interdisciplinary collaboration to advance building design in efficient and sustainable directions."
      ],
      "metadata": {
        "id": "LLI0C3BgOhLL"
      }
    }
  ]
}